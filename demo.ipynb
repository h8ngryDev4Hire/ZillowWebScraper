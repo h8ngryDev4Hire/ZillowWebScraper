{
 "cells": [
  {
   "cell_type": "code",
   "execution_count": null,
   "metadata": {},
   "outputs": [],
   "source": [
    "from zillow import Zillow\n",
    "import json\n",
    "from urllib.parse import urlencode\n",
    "import requests\n",
    "\n",
    "\n",
    "\n",
    "z = Zillow()\n",
    "\n"
   ]
  },
  {
   "cell_type": "code",
   "execution_count": null,
   "metadata": {},
   "outputs": [],
   "source": [
    "z.beginScraper()"
   ]
  },
  {
   "cell_type": "code",
   "execution_count": null,
   "metadata": {},
   "outputs": [],
   "source": [
    "headers = z.getHeaders()\n",
    "print(json.dumps(headers, indent=4))"
   ]
  },
  {
   "cell_type": "code",
   "execution_count": null,
   "metadata": {},
   "outputs": [],
   "source": [
    "params = z.getParams(north=40.76018455437584, south=40.54973261399329, east=-73.81326050170897, west=-74.062169498291, userSearchTerm=\"brooklyn-new-york-ny\")\n",
    "print(json.dumps(params, indent=4))"
   ]
  },
  {
   "cell_type": "code",
   "execution_count": null,
   "metadata": {},
   "outputs": [],
   "source": [
    "url = \"https://www.zillow.com/homes/for_sale/\"\n",
    "\n",
    "#fail_response = z.fetch(url, headers=\"\", params=\"\")\n",
    "\n",
    "response = z.fetch(url, headers=headers, params=params)\n",
    "\n"
   ]
  },
  {
   "cell_type": "code",
   "execution_count": null,
   "metadata": {},
   "outputs": [],
   "source": [
    "PARSED_DATA = z.parse(response.text)\n",
    "print(json.dumps(PARSED_DATA, indent=4))"
   ]
  },
  {
   "cell_type": "code",
   "execution_count": null,
   "metadata": {},
   "outputs": [],
   "source": [
    "HOME_LISTINGS = z.format(PARSED_DATA)\n",
    "print(json.dumps(HOME_LISTINGS, indent=4))"
   ]
  },
  {
   "cell_type": "code",
   "execution_count": null,
   "metadata": {},
   "outputs": [],
   "source": [
    "z.send2csv(HOME_LISTINGS, 'myhomelistings.csv')"
   ]
  }
 ],
 "metadata": {
  "kernelspec": {
   "display_name": "base",
   "language": "python",
   "name": "python3"
  },
  "language_info": {
   "codemirror_mode": {
    "name": "ipython",
    "version": 3
   },
   "file_extension": ".py",
   "mimetype": "text/x-python",
   "name": "python",
   "nbconvert_exporter": "python",
   "pygments_lexer": "ipython3",
   "version": "3.11.3"
  },
  "orig_nbformat": 4
 },
 "nbformat": 4,
 "nbformat_minor": 2
}
